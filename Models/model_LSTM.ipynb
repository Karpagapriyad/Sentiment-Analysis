{
 "cells": [
  {
   "cell_type": "code",
   "execution_count": 2,
   "metadata": {},
   "outputs": [],
   "source": [
    "import numpy as np\n",
    "import matplotlib.pyplot as plt\n",
    "import seaborn as sns\n",
    "\n",
    "from keras.preprocessing.text import Tokenizer\n",
    "from keras.preprocessing.sequence import pad_sequences\n",
    "from keras.layers import LSTM, Dense, Embedding, Bidirectional\n",
    "from gensim.models import FastText\n",
    "from keras.models import Sequential\n",
    "from sklearn.metrics import confusion_matrix"
   ]
  },
  {
   "cell_type": "code",
   "execution_count": 3,
   "metadata": {},
   "outputs": [],
   "source": [
    "def preprocess_data(file_path):\n",
    "    texts = []\n",
    "    labels = []\n",
    "    with open(file_path, 'r') as file:\n",
    "        for line in file:\n",
    "            text, emotion = line.strip().split(';')\n",
    "            texts.append(text)\n",
    "            labels.append(emotion)\n",
    "    return texts, labels"
   ]
  },
  {
   "cell_type": "code",
   "execution_count": 5,
   "metadata": {},
   "outputs": [],
   "source": [
    "train_texts, train_labels = preprocess_data('/Users/karpagapriyadhanraj/Desktop/EPITA/Action_learning/Sentiment-Analysis/data/train.txt')\n",
    "test_texts, test_labels = preprocess_data('/Users/karpagapriyadhanraj/Desktop/EPITA/Action_learning/Sentiment-Analysis/data/test.txt')"
   ]
  },
  {
   "cell_type": "code",
   "execution_count": 6,
   "metadata": {},
   "outputs": [],
   "source": [
    "tokenizer = Tokenizer()\n",
    "tokenizer.fit_on_texts(train_texts)"
   ]
  },
  {
   "cell_type": "code",
   "execution_count": 7,
   "metadata": {},
   "outputs": [],
   "source": [
    "train_sequences = tokenizer.texts_to_sequences(train_texts)\n",
    "test_sequences = tokenizer.texts_to_sequences(test_texts)\n"
   ]
  },
  {
   "cell_type": "code",
   "execution_count": 8,
   "metadata": {},
   "outputs": [],
   "source": [
    "max_sequence_length = max(len(seq) for seq in train_sequences)\n",
    "train_data = pad_sequences(train_sequences, maxlen=max_sequence_length)\n",
    "test_data = pad_sequences(test_sequences, maxlen=max_sequence_length)"
   ]
  },
  {
   "cell_type": "code",
   "execution_count": 9,
   "metadata": {},
   "outputs": [],
   "source": [
    "fasttext_model = FastText(sentences=[text.split() for text in train_texts], window=5, min_count=1, workers=4, sg=1)\n",
    "\n"
   ]
  },
  {
   "cell_type": "code",
   "execution_count": 10,
   "metadata": {},
   "outputs": [],
   "source": [
    "train_vectors = np.array([np.mean([fasttext_model.wv[word] for word in text.split() if word in fasttext_model.wv] or [np.zeros(100)], axis=0) for text in train_texts])\n",
    "test_vectors = np.array([np.mean([fasttext_model.wv[word] for word in text.split() if word in fasttext_model.wv] or [np.zeros(100)], axis=0) for text in test_texts])\n"
   ]
  },
  {
   "cell_type": "code",
   "execution_count": 11,
   "metadata": {},
   "outputs": [],
   "source": [
    "label_dict = {\n",
    "    \"sadness\": 0,\n",
    "    \"joy\": 1,\n",
    "    \"anger\": 2,\n",
    "    \"fear\": 3,\n",
    "    \"love\": 4,\n",
    "    \"surprise\": 5\n",
    "}\n",
    "train_labels_numeric = np.array([label_dict[label] for label in train_labels])\n",
    "test_labels_numeric = np.array([label_dict[label] for label in test_labels])"
   ]
  },
  {
   "cell_type": "markdown",
   "metadata": {},
   "source": [
    "Reference: Class materials "
   ]
  },
  {
   "cell_type": "code",
   "execution_count": 12,
   "metadata": {},
   "outputs": [
    {
     "name": "stdout",
     "output_type": "stream",
     "text": [
      "Model: \"sequential\"\n",
      "_________________________________________________________________\n",
      " Layer (type)                Output Shape              Param #   \n",
      "=================================================================\n",
      " embedding (Embedding)       (None, 66, 100)           1521300   \n",
      "                                                                 \n",
      " bidirectional (Bidirection  (None, 64)                34048     \n",
      " al)                                                             \n",
      "                                                                 \n",
      " dense (Dense)               (None, 6)                 390       \n",
      "                                                                 \n",
      " dense_1 (Dense)             (None, 1)                 7         \n",
      "                                                                 \n",
      "=================================================================\n",
      "Total params: 1555745 (5.93 MB)\n",
      "Trainable params: 1555745 (5.93 MB)\n",
      "Non-trainable params: 0 (0.00 Byte)\n",
      "_________________________________________________________________\n"
     ]
    }
   ],
   "source": [
    "model = Sequential([\n",
    "    Embedding(len(tokenizer.word_index) + 1, 100, input_length=max_sequence_length),\n",
    "    Bidirectional(LSTM(32)),\n",
    "    Dense(6, activation='relu'),\n",
    "    Dense(1, activation='sigmoid')\n",
    "])\n",
    "model.compile(loss='binary_crossentropy',optimizer='adam',metrics=['accuracy'])\n",
    "model.summary()\n"
   ]
  },
  {
   "cell_type": "code",
   "execution_count": 13,
   "metadata": {},
   "outputs": [
    {
     "name": "stdout",
     "output_type": "stream",
     "text": [
      "Epoch 1/10\n",
      "200/200 [==============================] - 6s 23ms/step - loss: -9.2370 - accuracy: 0.3373 - val_loss: -19.3232 - val_accuracy: 0.3262\n",
      "Epoch 2/10\n",
      "200/200 [==============================] - 5s 26ms/step - loss: -34.8880 - accuracy: 0.3373 - val_loss: -50.7342 - val_accuracy: 0.3262\n",
      "Epoch 3/10\n",
      "200/200 [==============================] - 4s 22ms/step - loss: -85.1788 - accuracy: 0.3373 - val_loss: -121.9583 - val_accuracy: 0.3262\n",
      "Epoch 4/10\n",
      "200/200 [==============================] - 5s 23ms/step - loss: -176.6724 - accuracy: 0.3377 - val_loss: -225.1651 - val_accuracy: 0.3319\n",
      "Epoch 5/10\n",
      "200/200 [==============================] - 4s 22ms/step - loss: -297.8201 - accuracy: 0.3893 - val_loss: -340.4178 - val_accuracy: 0.4006\n",
      "Epoch 6/10\n",
      "200/200 [==============================] - 4s 22ms/step - loss: -438.1102 - accuracy: 0.4325 - val_loss: -484.2920 - val_accuracy: 0.4409\n",
      "Epoch 7/10\n",
      "200/200 [==============================] - 4s 21ms/step - loss: -605.2397 - accuracy: 0.4597 - val_loss: -648.0732 - val_accuracy: 0.4575\n",
      "Epoch 8/10\n",
      "200/200 [==============================] - 4s 22ms/step - loss: -793.2476 - accuracy: 0.4844 - val_loss: -824.8323 - val_accuracy: 0.4628\n",
      "Epoch 9/10\n",
      "200/200 [==============================] - 5s 23ms/step - loss: -997.0982 - accuracy: 0.4934 - val_loss: -1024.0852 - val_accuracy: 0.4478\n",
      "Epoch 10/10\n",
      "200/200 [==============================] - 4s 22ms/step - loss: -1221.8191 - accuracy: 0.4995 - val_loss: -1249.4285 - val_accuracy: 0.4556\n"
     ]
    },
    {
     "data": {
      "text/plain": [
       "<keras.src.callbacks.History at 0x3122790a0>"
      ]
     },
     "execution_count": 13,
     "metadata": {},
     "output_type": "execute_result"
    }
   ],
   "source": [
    "model.fit(train_data, train_labels_numeric, validation_split=0.2, epochs=10, batch_size=64)"
   ]
  },
  {
   "cell_type": "code",
   "execution_count": 14,
   "metadata": {},
   "outputs": [
    {
     "name": "stdout",
     "output_type": "stream",
     "text": [
      "63/63 [==============================] - 1s 3ms/step - loss: -1192.6147 - accuracy: 0.4790\n",
      "Test Loss: -1192.61474609375\n",
      "Test Accuracy: 0.4790000021457672\n"
     ]
    }
   ],
   "source": [
    "loss, accuracy = model.evaluate(test_data, test_labels_numeric)\n",
    "print(\"Test Loss:\", loss)\n",
    "print(\"Test Accuracy:\", accuracy)"
   ]
  },
  {
   "cell_type": "code",
   "execution_count": 15,
   "metadata": {},
   "outputs": [],
   "source": [
    "train_labels_binary = np.array([1 if y > 2 else 0 for y in train_labels_numeric])\n",
    "test_labels_binary = np.array([1 if y > 2 else 0 for y in test_labels_numeric])\n"
   ]
  },
  {
   "cell_type": "code",
   "execution_count": 16,
   "metadata": {},
   "outputs": [
    {
     "name": "stdout",
     "output_type": "stream",
     "text": [
      "63/63 [==============================] - 1s 3ms/step\n"
     ]
    }
   ],
   "source": [
    "lstm_predictions = model.predict(test_data)\n",
    "lstm_predictions_binary = np.where(lstm_predictions > 0.5, 1, 0).flatten()"
   ]
  },
  {
   "cell_type": "code",
   "execution_count": 17,
   "metadata": {},
   "outputs": [],
   "source": [
    "lstm_cm = confusion_matrix(test_labels_binary, lstm_predictions_binary)\n"
   ]
  },
  {
   "cell_type": "code",
   "execution_count": 18,
   "metadata": {},
   "outputs": [
    {
     "data": {
      "image/png": "[encoded data removed]",
      "text/plain": [
       "<Figure size 640x480 with 2 Axes>"
      ]
     },
     "metadata": {},
     "output_type": "display_data"
    }
   ],
   "source": [
    "sns.heatmap(lstm_cm, annot=True, fmt='d', cmap='Blues', xticklabels=['Predicted 0', 'Predicted 1'], yticklabels=['True 0', 'True 1'])\n",
    "plt.xlabel('Predicted Label')\n",
    "plt.ylabel('True Label')\n",
    "plt.title('Confusion Matrix')\n",
    "plt.show()"
   ]
  },
  {
   "cell_type": "code",
   "execution_count": 19,
   "metadata": {},
   "outputs": [
    {
     "name": "stderr",
     "output_type": "stream",
     "text": [
      "/Users/karpagapriyadhanraj/miniconda3/envs/my-env/lib/python3.9/site-packages/keras/src/engine/training.py:3103: UserWarning: You are saving your model as an HDF5 file via `model.save()`. This file format is considered legacy. We recommend using instead the native Keras format, e.g. `model.save('my_model.keras')`.\n",
      "  saving_api.save_model(\n"
     ]
    }
   ],
   "source": [
    "model.save('lstm_model.h5')"
   ]
  }
 ],
 "metadata": {
  "kernelspec": {
   "display_name": "my-env",
   "language": "python",
   "name": "python3"
  },
  "language_info": {
   "codemirror_mode": {
    "name": "ipython",
    "version": 3
   },
   "file_extension": ".py",
   "mimetype": "text/x-python",
   "name": "python",
   "nbconvert_exporter": "python",
   "pygments_lexer": "ipython3",
   "version": "3.9.18"
  },
  "orig_nbformat": 4
 },
 "nbformat": 4,
 "nbformat_minor": 2
}
