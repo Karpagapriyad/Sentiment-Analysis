{
 "cells": [
  {
   "cell_type": "code",
   "execution_count": 1,
   "metadata": {},
   "outputs": [],
   "source": [
    "import numpy as np\n",
    "\n",
    "from keras.preprocessing.text import Tokenizer\n",
    "from keras.preprocessing.sequence import pad_sequences\n",
    "from keras.layers import LSTM, Dense, Embedding, Bidirectional\n",
    "from gensim.models import FastText\n",
    "from keras.models import Sequential"
   ]
  },
  {
   "cell_type": "code",
   "execution_count": 2,
   "metadata": {},
   "outputs": [],
   "source": [
    "def preprocess_data(file_path):\n",
    "    texts = []\n",
    "    labels = []\n",
    "    with open(file_path, 'r') as file:\n",
    "        for line in file:\n",
    "            text, emotion = line.strip().split(';')\n",
    "            texts.append(text)\n",
    "            labels.append(emotion)\n",
    "    return texts, labels"
   ]
  },
  {
   "cell_type": "code",
   "execution_count": 3,
   "metadata": {},
   "outputs": [],
   "source": [
    "train_texts, train_labels = preprocess_data('data/train.txt')\n",
    "test_texts, test_labels = preprocess_data('data/test.txt')"
   ]
  },
  {
   "cell_type": "code",
   "execution_count": 4,
   "metadata": {},
   "outputs": [],
   "source": [
    "tokenizer = Tokenizer()\n",
    "tokenizer.fit_on_texts(train_texts)"
   ]
  },
  {
   "cell_type": "code",
   "execution_count": 5,
   "metadata": {},
   "outputs": [],
   "source": [
    "train_sequences = tokenizer.texts_to_sequences(train_texts)\n",
    "test_sequences = tokenizer.texts_to_sequences(test_texts)\n"
   ]
  },
  {
   "cell_type": "code",
   "execution_count": 6,
   "metadata": {},
   "outputs": [],
   "source": [
    "max_sequence_length = max(len(seq) for seq in train_sequences)\n",
    "train_data = pad_sequences(train_sequences, maxlen=max_sequence_length)\n",
    "test_data = pad_sequences(test_sequences, maxlen=max_sequence_length)"
   ]
  },
  {
   "cell_type": "code",
   "execution_count": 8,
   "metadata": {},
   "outputs": [],
   "source": [
    "fasttext_model = FastText(sentences=[text.split() for text in train_texts], window=5, min_count=1, workers=4, sg=1)\n",
    "\n"
   ]
  },
  {
   "cell_type": "code",
   "execution_count": 10,
   "metadata": {},
   "outputs": [],
   "source": [
    "train_vectors = np.array([np.mean([fasttext_model.wv[word] for word in text.split() if word in fasttext_model.wv] or [np.zeros(100)], axis=0) for text in train_texts])\n",
    "test_vectors = np.array([np.mean([fasttext_model.wv[word] for word in text.split() if word in fasttext_model.wv] or [np.zeros(100)], axis=0) for text in test_texts])\n"
   ]
  },
  {
   "cell_type": "code",
   "execution_count": 11,
   "metadata": {},
   "outputs": [],
   "source": [
    "label_dict = {\n",
    "    \"sadness\": 0,\n",
    "    \"joy\": 1,\n",
    "    \"anger\": 2,\n",
    "    \"fear\": 3,\n",
    "    \"love\": 4,\n",
    "    \"surprise\": 5\n",
    "}\n",
    "train_labels_numeric = np.array([label_dict[label] for label in train_labels])\n",
    "test_labels_numeric = np.array([label_dict[label] for label in test_labels])"
   ]
  },
  {
   "cell_type": "code",
   "execution_count": 13,
   "metadata": {},
   "outputs": [
    {
     "name": "stdout",
     "output_type": "stream",
     "text": [
      "Model: \"sequential_1\"\n",
      "_________________________________________________________________\n",
      " Layer (type)                Output Shape              Param #   \n",
      "=================================================================\n",
      " embedding_1 (Embedding)     (None, 66, 100)           1521300   \n",
      "                                                                 \n",
      " bidirectional_1 (Bidirecti  (None, 64)                34048     \n",
      " onal)                                                           \n",
      "                                                                 \n",
      " dense_2 (Dense)             (None, 6)                 390       \n",
      "                                                                 \n",
      " dense_3 (Dense)             (None, 1)                 7         \n",
      "                                                                 \n",
      "=================================================================\n",
      "Total params: 1555745 (5.93 MB)\n",
      "Trainable params: 1555745 (5.93 MB)\n",
      "Non-trainable params: 0 (0.00 Byte)\n",
      "_________________________________________________________________\n"
     ]
    }
   ],
   "source": [
    "model = Sequential([\n",
    "    Embedding(len(tokenizer.word_index) + 1, 100, input_length=max_sequence_length),\n",
    "    Bidirectional(LSTM(32)),\n",
    "    Dense(6, activation='relu'),\n",
    "    Dense(1, activation='sigmoid')\n",
    "])\n",
    "model.compile(loss='binary_crossentropy',optimizer='adam',metrics=['accuracy'])\n",
    "model.summary()\n"
   ]
  },
  {
   "cell_type": "code",
   "execution_count": 14,
   "metadata": {},
   "outputs": [
    {
     "name": "stdout",
     "output_type": "stream",
     "text": [
      "Epoch 1/10\n",
      "200/200 [==============================] - 7s 27ms/step - loss: -9.9154 - accuracy: 0.3370 - val_loss: -20.1590 - val_accuracy: 0.3262\n",
      "Epoch 2/10\n",
      "200/200 [==============================] - 5s 23ms/step - loss: -35.9101 - accuracy: 0.3373 - val_loss: -51.2886 - val_accuracy: 0.3262\n",
      "Epoch 3/10\n",
      "200/200 [==============================] - 5s 26ms/step - loss: -84.0163 - accuracy: 0.3373 - val_loss: -122.4532 - val_accuracy: 0.3262\n",
      "Epoch 4/10\n",
      "200/200 [==============================] - 5s 25ms/step - loss: -182.7585 - accuracy: 0.3508 - val_loss: -234.6270 - val_accuracy: 0.3909\n",
      "Epoch 5/10\n",
      "200/200 [==============================] - 5s 25ms/step - loss: -309.9901 - accuracy: 0.4293 - val_loss: -360.8967 - val_accuracy: 0.4247\n",
      "Epoch 6/10\n",
      "200/200 [==============================] - 6s 28ms/step - loss: -457.7295 - accuracy: 0.4620 - val_loss: -517.6733 - val_accuracy: 0.4731\n",
      "Epoch 7/10\n",
      "200/200 [==============================] - 5s 23ms/step - loss: -625.8036 - accuracy: 0.4856 - val_loss: -682.3683 - val_accuracy: 0.4387\n",
      "Epoch 8/10\n",
      "200/200 [==============================] - 4s 22ms/step - loss: -808.1697 - accuracy: 0.4916 - val_loss: -863.1200 - val_accuracy: 0.4566\n",
      "Epoch 9/10\n",
      "200/200 [==============================] - 4s 22ms/step - loss: -1011.8419 - accuracy: 0.5027 - val_loss: -1057.5051 - val_accuracy: 0.4672\n",
      "Epoch 10/10\n",
      "200/200 [==============================] - 5s 27ms/step - loss: -1227.9545 - accuracy: 0.5080 - val_loss: -1271.4009 - val_accuracy: 0.4731\n"
     ]
    },
    {
     "data": {
      "text/plain": [
       "<keras.src.callbacks.History at 0x30f7c1760>"
      ]
     },
     "execution_count": 14,
     "metadata": {},
     "output_type": "execute_result"
    }
   ],
   "source": [
    "model.fit(train_data, train_labels_numeric, validation_split=0.2, epochs=10, batch_size=64)"
   ]
  },
  {
   "cell_type": "code",
   "execution_count": 15,
   "metadata": {},
   "outputs": [
    {
     "name": "stdout",
     "output_type": "stream",
     "text": [
      "63/63 [==============================] - 1s 3ms/step - loss: -1206.6383 - accuracy: 0.4820\n",
      "Test Loss: -1206.6383056640625\n",
      "Test Accuracy: 0.4819999933242798\n"
     ]
    }
   ],
   "source": [
    "loss, accuracy = model.evaluate(test_data, test_labels_numeric)\n",
    "print(\"Test Loss:\", loss)\n",
    "print(\"Test Accuracy:\", accuracy)"
   ]
  }
 ],
 "metadata": {
  "kernelspec": {
   "display_name": "my-env",
   "language": "python",
   "name": "python3"
  },
  "language_info": {
   "codemirror_mode": {
    "name": "ipython",
    "version": 3
   },
   "file_extension": ".py",
   "mimetype": "text/x-python",
   "name": "python",
   "nbconvert_exporter": "python",
   "pygments_lexer": "ipython3",
   "version": "3.9.18"
  },
  "orig_nbformat": 4
 },
 "nbformat": 4,
 "nbformat_minor": 2
}
